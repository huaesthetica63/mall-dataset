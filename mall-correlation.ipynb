{
 "cells": [
  {
   "cell_type": "markdown",
   "metadata": {},
   "source": [
    "# Mall_Customers dataset\n",
    "## Корреляция для исследования взаимосвязи данных\n",
    "<br>\n",
    "<br>Данные взяты отсюда:\n",
    "<br>https://www.kaggle.com/datasets/shwetabh123/mall-customers?resource=download\n"
   ]
  },
  {
   "cell_type": "code",
   "execution_count": 31,
   "metadata": {},
   "outputs": [
    {
     "name": "stdout",
     "output_type": "stream",
     "text": [
      "   CustomerID   Genre  Age  Annual Income (k$)  Spending Score (1-100)\n",
      "0           1    Male   19                  15                      39\n",
      "1           2    Male   21                  15                      81\n",
      "2           3  Female   20                  16                       6\n",
      "3           4  Female   23                  16                      77\n",
      "4           5  Female   31                  17                      40\n",
      "5           6  Female   22                  17                      76\n",
      "6           7  Female   35                  18                       6\n",
      "7           8  Female   23                  18                      94\n",
      "8           9    Male   64                  19                       3\n",
      "9          10  Female   30                  19                      72\n"
     ]
    }
   ],
   "source": [
    "import pandas as pd\n",
    "from matplotlib import pyplot as plt\n",
    "data = pd.read_csv('Mall_Customers.csv')\n",
    "first10rows = data.head(10) #выводим первые 10 строк\n",
    "print(first10rows)"
   ]
  },
  {
   "cell_type": "markdown",
   "metadata": {},
   "source": [
    "- CustomerID: индентификатор покупателя\n",
    "- Genre: пол\n",
    "- Age: возраст\n",
    "- Annual Income: доход\n",
    "- Spending Score: рейтинг растрат\n",
    "<br>\n",
    "<br>Теперь перейдем к выяснению взаимосвязи между растратами в молле и доходами покупателя"
   ]
  },
  {
   "cell_type": "code",
   "execution_count": 32,
   "metadata": {},
   "outputs": [
    {
     "name": "stdout",
     "output_type": "stream",
     "text": [
      "Income mean:  60.56\n",
      "Spending mean:  50.2\n",
      "Income mean:  60.56\n",
      "Spending mean:  50.2\n"
     ]
    }
   ],
   "source": [
    "#посчитали матожидание вручную\n",
    "incomeMean = sum(data['Annual Income (k$)'])/len(data['Annual Income (k$)'])\n",
    "spendMean = sum(data['Spending Score (1-100)'])/len(data['Spending Score (1-100)'])\n",
    "print('Income mean: ', incomeMean)\n",
    "print('Spending mean: ', spendMean)\n",
    "#теперь вычислим матожидание с помощью средств библиотеки\n",
    "incomeMean = data['Annual Income (k$)'].mean()\n",
    "print('Income mean: ', incomeMean)\n",
    "spendMean = data['Spending Score (1-100)'].mean()\n",
    "print('Spending mean: ', spendMean)"
   ]
  },
  {
   "cell_type": "code",
   "execution_count": 33,
   "metadata": {},
   "outputs": [
    {
     "name": "stdout",
     "output_type": "stream",
     "text": [
      "Income std:  26.264721165271254\n",
      "Spending std:  25.823521668370162\n",
      "Income std:  26.264721165271254\n",
      "Spending std:  25.823521668370162\n"
     ]
    }
   ],
   "source": [
    "#теперь перейдем к вычислению среднего отклонения\n",
    "#сначала посчитаем вручную по формуле \n",
    "incomestd=0\n",
    "spendstd=0\n",
    "for i, row in data.iterrows():\n",
    "    incomestd = incomestd + pow(row['Annual Income (k$)']-incomeMean,2)\n",
    "    spendstd = spendstd + pow(row['Spending Score (1-100)']-spendMean,2)\n",
    "incomestd = pow(incomestd / (len(data['Annual Income (k$)'])-1), 0.5)\n",
    "spendstd = pow(spendstd/ (len(data['Spending Score (1-100)'])-1), 0.5)\n",
    "print('Income std: ', incomestd)\n",
    "print('Spending std: ', spendstd)\n",
    "#теперь с помощью готовых функций:\n",
    "incomestd = data.std()['Annual Income (k$)']\n",
    "spendstd = data.std()['Spending Score (1-100)']\n",
    "print('Income std: ', incomestd)\n",
    "print('Spending std: ', spendstd)"
   ]
  },
  {
   "cell_type": "code",
   "execution_count": 34,
   "metadata": {},
   "outputs": [
    {
     "name": "stdout",
     "output_type": "stream",
     "text": [
      "Covariance:  6.716582914572866\n",
      "Covariance:  6.716582914572865\n"
     ]
    }
   ],
   "source": [
    "#Найдем ковариацию между Annual Income и Spending Score:\n",
    "covariance = 0\n",
    "for i, row in data.iterrows():\n",
    "    covariance = covariance + (row['Annual Income (k$)']-incomeMean)*(row['Spending Score (1-100)']-spendMean)\n",
    "covariance = covariance /(len(data)-1)\n",
    "print('Covariance: ',covariance)\n",
    "#теперь поосчитаем с помощью функции cov: \n",
    "covariance = data['Annual Income (k$)'].cov(data['Spending Score (1-100)'])\n",
    "print('Covariance: ',covariance)"
   ]
  },
  {
   "cell_type": "code",
   "execution_count": 35,
   "metadata": {},
   "outputs": [
    {
     "name": "stdout",
     "output_type": "stream",
     "text": [
      "Correlation:  0.00990284809403761\n",
      "Correlation:  0.009902848094037608\n"
     ]
    }
   ],
   "source": [
    "correlation = covariance/(incomestd*spendstd)\n",
    "print('Correlation: ', correlation)\n",
    "correlation = data['Annual Income (k$)'].corr(data['Spending Score (1-100)'])\n",
    "print('Correlation: ', correlation)"
   ]
  },
  {
   "cell_type": "markdown",
   "metadata": {},
   "source": [
    "Корреляция между уровнем дохода и уровнем растрат в моллах равна примерно 0.0099 - очень слабая положительная корреляция, которая ничего не говорит о взаимосвязи этих величин. \n",
    "<br>Теперь попробуем выявить взаимосвязь уровня растрат с возрастом покупателя:"
   ]
  },
  {
   "cell_type": "code",
   "execution_count": 36,
   "metadata": {},
   "outputs": [
    {
     "name": "stdout",
     "output_type": "stream",
     "text": [
      "Correlation Age-Spend:  -0.32722684603909014\n"
     ]
    }
   ],
   "source": [
    "correlation = data['Age'].corr(data['Spending Score (1-100)'])\n",
    "print('Correlation Age-Spend: ', correlation)"
   ]
  },
  {
   "cell_type": "markdown",
   "metadata": {},
   "source": [
    "Мы видим антикорреляцию между возрастом и уровнем растрат: скорее, здесь есть обратная зависимость - чем младше покупатель, чем больше он склонен тратить денег в торговом центре и наоборот"
   ]
  },
  {
   "cell_type": "code",
   "execution_count": 39,
   "metadata": {},
   "outputs": [
    {
     "name": "stdout",
     "output_type": "stream",
     "text": [
      "Correlation Age-Spend:  0.05810873926162087\n"
     ]
    }
   ],
   "source": [
    "Genre = (data['Genre'] == 'Female').astype(int)\n",
    "correlation = Genre.corr(data['Spending Score (1-100)'])\n",
    "print('Correlation Age-Spend: ', correlation)"
   ]
  },
  {
   "cell_type": "markdown",
   "metadata": {},
   "source": [
    "Здесь мы видим очень слабую положительную корреляцию: девушки немного лучше тратят деньги в магазинах"
   ]
  },
  {
   "cell_type": "code",
   "execution_count": null,
   "metadata": {},
   "outputs": [],
   "source": []
  }
 ],
 "metadata": {
  "kernelspec": {
   "display_name": "Python 3",
   "language": "python",
   "name": "python3"
  },
  "language_info": {
   "codemirror_mode": {
    "name": "ipython",
    "version": 3
   },
   "file_extension": ".py",
   "mimetype": "text/x-python",
   "name": "python",
   "nbconvert_exporter": "python",
   "pygments_lexer": "ipython3",
   "version": "3.7.6"
  }
 },
 "nbformat": 4,
 "nbformat_minor": 4
}
